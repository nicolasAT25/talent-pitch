{
 "cells": [
  {
   "cell_type": "code",
   "execution_count": 1,
   "metadata": {},
   "outputs": [],
   "source": [
    "from api.config import settings\n",
    "import psycopg2\n",
    "from psycopg2.extras import RealDictCursor\n",
    "import time\n",
    "import pandas as pd\n",
    "from IPython.display import display\n",
    "\n",
    "pd.options.display.max_colwidth = None"
   ]
  },
  {
   "cell_type": "markdown",
   "metadata": {},
   "source": [
    "# 1. Number of challenges that was created in the last 3 months, with the objective of every challenge and with status are open, order by the most recent date of creation"
   ]
  },
  {
   "cell_type": "code",
   "execution_count": 2,
   "metadata": {},
   "outputs": [
    {
     "name": "stdout",
     "output_type": "stream",
     "text": [
      "Database connection was succesfull!\n"
     ]
    },
    {
     "data": {
      "text/html": [
       "<div>\n",
       "<style scoped>\n",
       "    .dataframe tbody tr th:only-of-type {\n",
       "        vertical-align: middle;\n",
       "    }\n",
       "\n",
       "    .dataframe tbody tr th {\n",
       "        vertical-align: top;\n",
       "    }\n",
       "\n",
       "    .dataframe thead th {\n",
       "        text-align: right;\n",
       "    }\n",
       "</style>\n",
       "<table border=\"1\" class=\"dataframe\">\n",
       "  <thead>\n",
       "    <tr style=\"text-align: right;\">\n",
       "      <th></th>\n",
       "      <th>id</th>\n",
       "      <th>name</th>\n",
       "      <th>description</th>\n",
       "      <th>status</th>\n",
       "      <th>opencall_objective</th>\n",
       "      <th>created_at</th>\n",
       "    </tr>\n",
       "  </thead>\n",
       "  <tbody>\n",
       "    <tr>\n",
       "      <th>0</th>\n",
       "      <td>490</td>\n",
       "      <td>Domina el arte del casting con una mentoría</td>\n",
       "      <td>¿Sueñas con convertirte en empresario con el respaldo de marcas reconocidas?</td>\n",
       "      <td>open</td>\n",
       "      <td>Innovador</td>\n",
       "      <td>2024-07-09 00:00:00-05:00</td>\n",
       "    </tr>\n",
       "    <tr>\n",
       "      <th>1</th>\n",
       "      <td>480</td>\n",
       "      <td>Sé el mejor presentador de televisión</td>\n",
       "      <td>¡Domina el arte del casting con una mentoría exclusiva!</td>\n",
       "      <td>open</td>\n",
       "      <td>Artistas</td>\n",
       "      <td>2024-07-08 00:00:00-05:00</td>\n",
       "    </tr>\n",
       "  </tbody>\n",
       "</table>\n",
       "</div>"
      ],
      "text/plain": [
       "    id                                         name  \\\n",
       "0  490  Domina el arte del casting con una mentoría   \n",
       "1  480        Sé el mejor presentador de televisión   \n",
       "\n",
       "                                                                    description  \\\n",
       "0  ¿Sueñas con convertirte en empresario con el respaldo de marcas reconocidas?   \n",
       "1                      ¡Domina el arte del casting con una mentoría exclusiva!    \n",
       "\n",
       "  status opencall_objective                created_at  \n",
       "0   open          Innovador 2024-07-09 00:00:00-05:00  \n",
       "1   open           Artistas 2024-07-08 00:00:00-05:00  "
      ]
     },
     "metadata": {},
     "output_type": "display_data"
    }
   ],
   "source": [
    "while True:\n",
    "    try:\n",
    "        # Usage of EV for security.\n",
    "        conn = psycopg2.connect(host=settings.database_hostname, dbname=settings.database_name, user=settings.database_username, password=settings.database_password, \n",
    "                               cursor_factory=RealDictCursor)  # Map the columns and values\n",
    "        cursor = conn.cursor()\n",
    "        print('Database connection was succesfull!')\n",
    "        query_1 = \"\"\"\n",
    "        SELECT *\n",
    "        FROM challenges\n",
    "        WHERE DATE(created_at) >= NOW() - INTERVAL '3 months'\n",
    "            AND status LIKE 'open'\n",
    "        ORDER BY created_at DESC;\n",
    "        \"\"\"\n",
    "        cursor.execute(query_1)\n",
    "        challenges = cursor.fetchall()\n",
    "        columns_1 = [desc[0] for desc in cursor.description]\n",
    "\n",
    "        cursor.close()\n",
    "        conn.close()\n",
    "\n",
    "        df_1 = pd.DataFrame(challenges, columns=columns_1)\n",
    "\n",
    "        display(df_1)\n",
    "        break\n",
    "    except Exception as e:\n",
    "        print(f'Connecting to database failed. Error: {e}')\n",
    "        time.sleep(2)"
   ]
  },
  {
   "cell_type": "markdown",
   "metadata": {},
   "source": [
    "# 2. List of users that have his onboarding goal objective (profile table) in be_discovered and that have a video uploaded in the platform for the last 2 months. Keep in mind that if the user has more than one video in the resumes table you have to choose one option using this rule, the type of video is pitch_video. the video must be a valid url and not null."
   ]
  },
  {
   "cell_type": "code",
   "execution_count": 4,
   "metadata": {},
   "outputs": [
    {
     "name": "stdout",
     "output_type": "stream",
     "text": [
      "Database connection was succesfull!\n"
     ]
    },
    {
     "data": {
      "text/html": [
       "<div>\n",
       "<style scoped>\n",
       "    .dataframe tbody tr th:only-of-type {\n",
       "        vertical-align: middle;\n",
       "    }\n",
       "\n",
       "    .dataframe tbody tr th {\n",
       "        vertical-align: top;\n",
       "    }\n",
       "\n",
       "    .dataframe thead th {\n",
       "        text-align: right;\n",
       "    }\n",
       "</style>\n",
       "<table border=\"1\" class=\"dataframe\">\n",
       "  <thead>\n",
       "    <tr style=\"text-align: right;\">\n",
       "      <th></th>\n",
       "      <th>user_id</th>\n",
       "      <th>video</th>\n",
       "      <th>onboarding_goal</th>\n",
       "      <th>updated_at</th>\n",
       "      <th>created_at</th>\n",
       "    </tr>\n",
       "  </thead>\n",
       "  <tbody>\n",
       "  </tbody>\n",
       "</table>\n",
       "</div>"
      ],
      "text/plain": [
       "Empty DataFrame\n",
       "Columns: [user_id, video, onboarding_goal, updated_at, created_at]\n",
       "Index: []"
      ]
     },
     "metadata": {},
     "output_type": "display_data"
    }
   ],
   "source": [
    "# Ther're not videos uploaded in the las 2 months on the \"resumes\" table.\n",
    "\n",
    "while True:\n",
    "    try:\n",
    "        # Usage of EV for security.\n",
    "        conn = psycopg2.connect(host=settings.database_hostname, dbname=settings.database_name, user=settings.database_username, password=settings.database_password, \n",
    "                               cursor_factory=RealDictCursor)  # Map the columns and values\n",
    "        cursor = conn.cursor()\n",
    "        print('Database connection was succesfull!')\n",
    "        query_2 = \"\"\"\n",
    "        SELECT p.user_id, r.video, p.onboarding_goal, p.updated_at, r.created_at\n",
    "        FROM profiles AS p\n",
    "            INNER JOIN resumes AS r ON r.user_id = p.user_id\n",
    "        WHERE p.onboarding_goal LIKE 'be_discovered%'\n",
    "            AND DATE(r.created_at) >= (NOW() - INTERVAL '2 months')\n",
    "            AND r.type LIKE 'pitch_video'\n",
    "            AND r.video IS NOT NULL\n",
    "        ORDER BY created_at DESC;\n",
    "        \"\"\"\n",
    "        cursor.execute(query_2)\n",
    "        resumes = cursor.fetchall()\n",
    "        columns_2 = [desc[0] for desc in cursor.description]\n",
    "\n",
    "        cursor.close()\n",
    "        conn.close()\n",
    "\n",
    "        df_1 = pd.DataFrame(resumes, columns=columns_2)\n",
    "\n",
    "        display(df_1)\n",
    "        break\n",
    "    except Exception as e:\n",
    "        print(f'Connecting to database failed. Error: {e}')\n",
    "        time.sleep(2)"
   ]
  }
 ],
 "metadata": {
  "kernelspec": {
   "display_name": "venv",
   "language": "python",
   "name": "python3"
  },
  "language_info": {
   "codemirror_mode": {
    "name": "ipython",
    "version": 3
   },
   "file_extension": ".py",
   "mimetype": "text/x-python",
   "name": "python",
   "nbconvert_exporter": "python",
   "pygments_lexer": "ipython3",
   "version": "3.12.3"
  }
 },
 "nbformat": 4,
 "nbformat_minor": 2
}
